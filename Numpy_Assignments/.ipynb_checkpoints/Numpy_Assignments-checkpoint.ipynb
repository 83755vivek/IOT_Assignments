{
 "cells": [
  {
   "cell_type": "code",
   "execution_count": 1,
   "id": "d0f4c8f5-5d14-485c-98cc-27adffdab4e0",
   "metadata": {},
   "outputs": [],
   "source": [
    "#1. Write a NumPy program to create an array with the values 1, 7, 13, 105 and determine the size of the memory occupied by the array."
   ]
  },
  {
   "cell_type": "code",
   "execution_count": 2,
   "id": "d772d2f2-86d1-4283-ad99-8b9faf8a20de",
   "metadata": {},
   "outputs": [],
   "source": [
    "import numpy as np\n",
    "import pandas as pd"
   ]
  },
  {
   "cell_type": "code",
   "execution_count": 8,
   "id": "b3ef791e-af35-469d-84c4-0e81fe397ee1",
   "metadata": {},
   "outputs": [
    {
     "name": "stdout",
     "output_type": "stream",
     "text": [
      "[  1   7  13 105]\n",
      "size of memory occupied by array is :32\n"
     ]
    }
   ],
   "source": [
    "arr1=np.array([1,7,13,105])\n",
    "print(arr1)\n",
    "print(f\"size of memory occupied by array is :{arr1.nbytes}\")"
   ]
  },
  {
   "cell_type": "code",
   "execution_count": null,
   "id": "17973262-4022-4713-9003-82fa9c69b446",
   "metadata": {},
   "outputs": [],
   "source": []
  },
  {
   "cell_type": "code",
   "execution_count": 10,
   "id": "5068a191-5b59-4709-b068-c91f46fc4a2a",
   "metadata": {},
   "outputs": [],
   "source": [
    "#2.Write a NumPy program to create an element-wise comparison (greater, greater_equal, less and less_equal) of two given arrays. "
   ]
  },
  {
   "cell_type": "code",
   "execution_count": null,
   "id": "f7e4c2ba-d8cd-44f4-a648-97a263ad03d1",
   "metadata": {},
   "outputs": [],
   "source": []
  },
  {
   "cell_type": "code",
   "execution_count": null,
   "id": "5787d369-0304-4d85-9ff2-6a90ba4f6358",
   "metadata": {},
   "outputs": [],
   "source": []
  },
  {
   "cell_type": "code",
   "execution_count": 9,
   "id": "43dd3898-37c7-4460-9061-a381bdbba056",
   "metadata": {},
   "outputs": [],
   "source": [
    "#3. Write a NumPy program to create an array of 10 zeros, 10 ones, 10 fives, 10 tens, 10 twentys and 10 fiftys."
   ]
  },
  {
   "cell_type": "code",
   "execution_count": 15,
   "id": "b8963a95-5869-4f5d-8367-359cf78effb3",
   "metadata": {},
   "outputs": [
    {
     "name": "stdout",
     "output_type": "stream",
     "text": [
      "[0. 0. 0. 0. 0. 0. 0. 0. 0. 0.]\n",
      "[1. 1. 1. 1. 1. 1. 1. 1. 1. 1.]\n",
      "[5. 5. 5. 5. 5. 5. 5. 5. 5. 5.]\n",
      "[10. 10. 10. 10. 10. 10. 10. 10. 10. 10.]\n",
      "[20. 20. 20. 20. 20. 20. 20. 20. 20. 20.]\n",
      "[50. 50. 50. 50. 50. 50. 50. 50. 50. 50.]\n"
     ]
    }
   ],
   "source": [
    "arr4=np.zeros(10)\n",
    "arr5=np.ones(10)\n",
    "arr6=5*arr5\n",
    "arr7=10*arr5\n",
    "arr8=20*arr5\n",
    "arr9=50*arr5\n",
    "print(arr4)\n",
    "print(arr5)\n",
    "print(arr6)\n",
    "print(arr7)\n",
    "print(arr8)\n",
    "print(arr9)"
   ]
  },
  {
   "cell_type": "code",
   "execution_count": null,
   "id": "3dbd971a-a116-45ec-913b-c59f61aff48b",
   "metadata": {},
   "outputs": [],
   "source": []
  },
  {
   "cell_type": "code",
   "execution_count": null,
   "id": "ac61fbe8-c31d-4e98-ac76-d29df1627185",
   "metadata": {},
   "outputs": [],
   "source": [
    "#4. Write a NumPy program to create an array of integers from 30 to 70."
   ]
  },
  {
   "cell_type": "code",
   "execution_count": 18,
   "id": "e7be93d0-25b3-4f2a-8200-0d2f4f810d54",
   "metadata": {},
   "outputs": [
    {
     "name": "stdout",
     "output_type": "stream",
     "text": [
      "[30 31 32 33 34 35 36 37 38 39 40 41 42 43 44 45 46 47 48 49 50 51 52 53\n",
      " 54 55 56 57 58 59 60 61 62 63 64 65 66 67 68 69]\n"
     ]
    }
   ],
   "source": [
    "arr8=np.arange(30,70)\n",
    "print(arr8)"
   ]
  },
  {
   "cell_type": "code",
   "execution_count": null,
   "id": "8be717c8-b807-4beb-af4b-14b9bad99590",
   "metadata": {},
   "outputs": [],
   "source": []
  },
  {
   "cell_type": "code",
   "execution_count": null,
   "id": "48051816-c99e-42f2-9094-2437f753918b",
   "metadata": {},
   "outputs": [],
   "source": [
    "#5.Write a NumPy program to create an array of integers from 50 to 95."
   ]
  },
  {
   "cell_type": "code",
   "execution_count": 19,
   "id": "1927d86e-90c0-451c-a5d2-ba4f0c5749a2",
   "metadata": {},
   "outputs": [
    {
     "name": "stdout",
     "output_type": "stream",
     "text": [
      "[50 51 52 53 54 55 56 57 58 59 60 61 62 63 64 65 66 67 68 69 70 71 72 73\n",
      " 74 75 76 77 78 79 80 81 82 83 84 85 86 87 88 89 90 91 92 93 94 95]\n"
     ]
    }
   ],
   "source": [
    "arr9=np.arange(50,96)\n",
    "print(arr9)"
   ]
  },
  {
   "cell_type": "code",
   "execution_count": null,
   "id": "bbe909f9-22a9-4592-bc3f-fd91442dd0b8",
   "metadata": {},
   "outputs": [],
   "source": []
  },
  {
   "cell_type": "code",
   "execution_count": null,
   "id": "ebdf2060-3419-4383-8412-cc6e5c95b92f",
   "metadata": {},
   "outputs": [],
   "source": [
    "#6. Write a NumPy program to create an array of all even integers from 20 to 80."
   ]
  },
  {
   "cell_type": "code",
   "execution_count": 22,
   "id": "0fd85b43-f166-4865-9774-ba1d971d72c1",
   "metadata": {},
   "outputs": [
    {
     "name": "stdout",
     "output_type": "stream",
     "text": [
      "[20 22 24 26 28 30 32 34 36 38 40 42 44 46 48 50 52 54 56 58 60 62 64 66\n",
      " 68 70 72 74 76 78 80]\n"
     ]
    }
   ],
   "source": [
    "arr10=np.arange(20,81,2)\n",
    "print(arr10)"
   ]
  },
  {
   "cell_type": "code",
   "execution_count": null,
   "id": "688b7e6a-165d-4ca1-9db8-07ee97af42ad",
   "metadata": {},
   "outputs": [],
   "source": []
  },
  {
   "cell_type": "code",
   "execution_count": null,
   "id": "6afa6a21-b710-4af9-86e5-fe87d65b32bd",
   "metadata": {},
   "outputs": [],
   "source": [
    "#7. Write a NumPy program to create an array of all odd integers from 20 to 80."
   ]
  },
  {
   "cell_type": "code",
   "execution_count": 25,
   "id": "c54e2fd3-90f8-4af9-9dd0-fd2a4a62c2bb",
   "metadata": {},
   "outputs": [
    {
     "name": "stdout",
     "output_type": "stream",
     "text": [
      "[21 23 25 27 29 31 33 35 37 39 41 43 45 47 49 51 53 55 57 59 61 63 65 67\n",
      " 69 71 73 75 77 79]\n"
     ]
    }
   ],
   "source": [
    "arr11=np.arange(21,81,2)\n",
    "print(arr11)"
   ]
  },
  {
   "cell_type": "code",
   "execution_count": null,
   "id": "406d20df-73c5-412a-9860-76ca437ae161",
   "metadata": {},
   "outputs": [],
   "source": []
  },
  {
   "cell_type": "code",
   "execution_count": null,
   "id": "d00dc714-a6d6-4170-b791-5ecdbab6ac04",
   "metadata": {},
   "outputs": [],
   "source": [
    "#8. Write a NumPy program to generate an array of 15 random numbers from 10 to 40."
   ]
  },
  {
   "cell_type": "code",
   "execution_count": 26,
   "id": "bb914b80-a470-4834-825b-6b3bd23d9a05",
   "metadata": {},
   "outputs": [
    {
     "name": "stdout",
     "output_type": "stream",
     "text": [
      "[18 13 25 38 21 29 31 29 19 12 19 36 38 17 14]\n"
     ]
    }
   ],
   "source": [
    "arr12=np.random.randint(10,40,15)\n",
    "print(arr12)"
   ]
  },
  {
   "cell_type": "code",
   "execution_count": null,
   "id": "aa2d2373-7a87-4656-af02-32dc19433120",
   "metadata": {},
   "outputs": [],
   "source": []
  },
  {
   "cell_type": "code",
   "execution_count": null,
   "id": "08ae4607-4c70-49fc-971b-cd0975303bed",
   "metadata": {},
   "outputs": [],
   "source": [
    "#11. Create any two arrays & perform various mathematical operations. i.e. Addition, Substraction, Multiplication, Divide."
   ]
  },
  {
   "cell_type": "code",
   "execution_count": 30,
   "id": "8ebfd506-6777-48f1-ace4-d543a1f2d315",
   "metadata": {},
   "outputs": [
    {
     "name": "stdout",
     "output_type": "stream",
     "text": [
      "Addition :[14  7 10  8 15]\n",
      "Substraction :[-4 -5  8  4 -1]\n",
      "Multiplication :[45  6  9 12 56]\n",
      "Division :[0.55555556 0.16666667 9.         3.         0.875     ]\n"
     ]
    }
   ],
   "source": [
    "arr13=np.array([5,1,9,6,7])\n",
    "arr14=np.array([9,6,1,2,8])\n",
    "print(f\"Addition :{arr13+arr14}\")\n",
    "print(f\"Substraction :{arr13-arr14}\")\n",
    "print(f\"Multiplication :{arr13*arr14}\")\n",
    "print(f\"Division :{arr13/arr14}\")"
   ]
  },
  {
   "cell_type": "code",
   "execution_count": null,
   "id": "d94d4054-a149-4356-a27e-e2a7ef35abdd",
   "metadata": {},
   "outputs": [],
   "source": []
  },
  {
   "cell_type": "code",
   "execution_count": null,
   "id": "b39a9851-2f6e-4fcc-80b7-33dc96926fd7",
   "metadata": {},
   "outputs": [],
   "source": [
    "#12. Write a NumPy program to create a 3x4 matrix filled with values from 10 to 21."
   ]
  },
  {
   "cell_type": "code",
   "execution_count": null,
   "id": "56876ccf-dcbb-4f71-bc97-ed1d3946a14e",
   "metadata": {},
   "outputs": [],
   "source": [
    "import numpy as np"
   ]
  },
  {
   "cell_type": "code",
   "execution_count": 31,
   "id": "6afcb594-d5c1-45ae-8c1f-46cf02629a9d",
   "metadata": {},
   "outputs": [
    {
     "name": "stdout",
     "output_type": "stream",
     "text": [
      "[[10 11 12 13]\n",
      " [14 15 16 17]\n",
      " [18 19 20 21]]\n"
     ]
    }
   ],
   "source": [
    "m = np.arange(10,22).reshape((3,4))\n",
    "print(m)"
   ]
  },
  {
   "cell_type": "code",
   "execution_count": null,
   "id": "edb39e9e-b1b4-4ed0-a2c6-71ec7946f123",
   "metadata": {},
   "outputs": [],
   "source": []
  },
  {
   "cell_type": "code",
   "execution_count": null,
   "id": "c367da84-ca35-41de-98a1-82573a4ad00b",
   "metadata": {},
   "outputs": [],
   "source": [
    "#13.Write a NumPy program to create a 3x3 identity matrix, i.e. the diagonal     elements are 1, the rest are 0."
   ]
  },
  {
   "cell_type": "code",
   "execution_count": null,
   "id": "189187b6-7c8f-4d96-b99f-b1ab85cbc73c",
   "metadata": {},
   "outputs": [],
   "source": [
    "import numpy as np"
   ]
  },
  {
   "cell_type": "code",
   "execution_count": 32,
   "id": "5bae1327-051c-4783-b0d9-5c67bc5d1b62",
   "metadata": {},
   "outputs": [
    {
     "name": "stdout",
     "output_type": "stream",
     "text": [
      "[[1. 0. 0.]\n",
      " [0. 1. 0.]\n",
      " [0. 0. 1.]]\n"
     ]
    }
   ],
   "source": [
    "x = np.eye(3)\n",
    "print(x)"
   ]
  },
  {
   "cell_type": "code",
   "execution_count": null,
   "id": "04ed1bde-3e33-45e0-8849-93c022c1a4dd",
   "metadata": {},
   "outputs": [],
   "source": []
  },
  {
   "cell_type": "code",
   "execution_count": 33,
   "id": "e8b2078f-126c-4847-bb9b-c2e2d572c12c",
   "metadata": {},
   "outputs": [],
   "source": [
    "#14.Write a NumPy program to find the number of rows and columns in a given     matrix."
   ]
  },
  {
   "cell_type": "code",
   "execution_count": null,
   "id": "32a8eef0-3971-4d59-b652-f1b8f6a131b2",
   "metadata": {},
   "outputs": [],
   "source": [
    "import numpy as np"
   ]
  },
  {
   "cell_type": "code",
   "execution_count": 34,
   "id": "d5dde919-499d-49d4-9ba4-2b44b4465fbf",
   "metadata": {},
   "outputs": [
    {
     "name": "stdout",
     "output_type": "stream",
     "text": [
      "Matrix:\n",
      "[[10 11 12 13]\n",
      " [14 15 16 17]\n",
      " [18 19 20 21]]\n",
      "No.of rows and column:\n",
      "(3, 4)\n"
     ]
    }
   ],
   "source": [
    "m = np.arange(10,22).reshape((3, 4))\n",
    "print(\"Matrix:\")\n",
    "print(m)\n",
    "\n",
    "print(\"No.of rows and column:\")\n",
    "print(m.shape)"
   ]
  },
  {
   "cell_type": "code",
   "execution_count": null,
   "id": "aa08384e-1297-4c7f-9638-d1553108bfa2",
   "metadata": {},
   "outputs": [],
   "source": []
  },
  {
   "cell_type": "code",
   "execution_count": null,
   "id": "04c2d982-9e88-4de1-a633-f1934ac35668",
   "metadata": {},
   "outputs": [],
   "source": [
    "#15.Write a NumPy program to create a 5x5 zero matrix with elements on the     main diagonal equal to 1, 2, 3, 4, 5."
   ]
  },
  {
   "cell_type": "code",
   "execution_count": 35,
   "id": "797dd68a-a3aa-479b-ad12-e47f8be75c3d",
   "metadata": {},
   "outputs": [],
   "source": [
    "import numpy as np"
   ]
  },
  {
   "cell_type": "code",
   "execution_count": 36,
   "id": "a9004871-9893-46b5-a153-f6d52699bb9d",
   "metadata": {},
   "outputs": [
    {
     "name": "stdout",
     "output_type": "stream",
     "text": [
      "[[1 0 0 0 0]\n",
      " [0 2 0 0 0]\n",
      " [0 0 3 0 0]\n",
      " [0 0 0 4 0]\n",
      " [0 0 0 0 5]]\n"
     ]
    }
   ],
   "source": [
    "x = np.diag([1, 2, 3, 4, 5])\n",
    "print(x)"
   ]
  },
  {
   "cell_type": "code",
   "execution_count": null,
   "id": "6ef13fdf-1562-4ada-b6b2-0f897ef9c8e7",
   "metadata": {},
   "outputs": [],
   "source": []
  },
  {
   "cell_type": "code",
   "execution_count": null,
   "id": "c265b59b-a4c5-49e1-8fed-c758e7c63b7f",
   "metadata": {},
   "outputs": [],
   "source": [
    "#16.Write a NumPy program to create a 3x3x3 array filled with arbitrary     values."
   ]
  },
  {
   "cell_type": "code",
   "execution_count": null,
   "id": "0ef31670-182e-4f3a-b587-a9d1c3153b57",
   "metadata": {},
   "outputs": [],
   "source": [
    "import numpy as np"
   ]
  },
  {
   "cell_type": "code",
   "execution_count": 37,
   "id": "fb058632-2834-49bd-b2de-34068a4a9c62",
   "metadata": {},
   "outputs": [
    {
     "name": "stdout",
     "output_type": "stream",
     "text": [
      "[[[0.88644081 0.59809737 0.34697357]\n",
      "  [0.7037515  0.64778287 0.84206571]\n",
      "  [0.73118372 0.66806268 0.1799773 ]]\n",
      "\n",
      " [[0.68492385 0.53942727 0.01777446]\n",
      "  [0.68372819 0.32677907 0.40832558]\n",
      "  [0.21939471 0.88641473 0.38955921]]\n",
      "\n",
      " [[0.69008271 0.95106635 0.53447374]\n",
      "  [0.8006147  0.78895823 0.0262793 ]\n",
      "  [0.80328025 0.96072799 0.60579533]]]\n"
     ]
    }
   ],
   "source": [
    "x = np.random.random((3, 3, 3))\n",
    "print(x)"
   ]
  },
  {
   "cell_type": "code",
   "execution_count": null,
   "id": "51a54489-8f12-46a2-a89a-20d916f35076",
   "metadata": {},
   "outputs": [],
   "source": []
  },
  {
   "cell_type": "code",
   "execution_count": 38,
   "id": "ef8a3779-9f3d-4fe2-9e43-fc977704597c",
   "metadata": {},
   "outputs": [],
   "source": [
    "#17.Write a NumPy program to create a 2x3x4 array filled with arbitrary     values."
   ]
  },
  {
   "cell_type": "code",
   "execution_count": 39,
   "id": "5b13312b-b0e2-4114-bcdb-57ec502fc869",
   "metadata": {},
   "outputs": [],
   "source": [
    "import numpy as np"
   ]
  },
  {
   "cell_type": "code",
   "execution_count": 40,
   "id": "8a7801a8-c3d0-440c-ac77-4e28f9b9356a",
   "metadata": {},
   "outputs": [
    {
     "name": "stdout",
     "output_type": "stream",
     "text": [
      "[[[0.18504504 0.84418327 0.2433872  0.47435598]\n",
      "  [0.05285175 0.72945821 0.31351153 0.9560567 ]\n",
      "  [0.56182237 0.10193482 0.02314029 0.3913347 ]]\n",
      "\n",
      " [[0.30311907 0.92917982 0.72861413 0.61062531]\n",
      "  [0.20689163 0.81496896 0.68444902 0.34832612]\n",
      "  [0.86726454 0.93819558 0.1133571  0.10037461]]]\n"
     ]
    }
   ],
   "source": [
    "x = np.random.random((2, 3, 4))\n",
    "print(x)"
   ]
  },
  {
   "cell_type": "code",
   "execution_count": null,
   "id": "409a4053-c03f-431f-91a3-f2c9117c64aa",
   "metadata": {},
   "outputs": [],
   "source": []
  },
  {
   "cell_type": "code",
   "execution_count": null,
   "id": "65e543b4-25bc-4f23-9885-ba9bb4a6531e",
   "metadata": {},
   "outputs": [],
   "source": [
    "#18.Write a NumPy program to convert a list of numeric values into a one-    dimensional NumPy array."
   ]
  },
  {
   "cell_type": "code",
   "execution_count": null,
   "id": "08e2be9b-d810-48e5-94f9-ede4de6cfc5b",
   "metadata": {},
   "outputs": [],
   "source": [
    "import numpy as np"
   ]
  },
  {
   "cell_type": "code",
   "execution_count": 41,
   "id": "096f831d-d7a4-498f-b7dd-e1d04a06b845",
   "metadata": {},
   "outputs": [
    {
     "name": "stdout",
     "output_type": "stream",
     "text": [
      "Original list: [22.5, 12.4, 50, 60.33]\n",
      "One-Dimensional Numpy array: [22.5  12.4  50.   60.33]\n"
     ]
    }
   ],
   "source": [
    "l = [22.5, 12.4, 50, 60.33]\n",
    "print(\"Original list:\", l)\n",
    "a = np.array(l)\n",
    "print(\"One-Dimensional Numpy array:\", a)"
   ]
  },
  {
   "cell_type": "code",
   "execution_count": null,
   "id": "9a4f0280-993d-4d8b-ae60-24246be1edea",
   "metadata": {},
   "outputs": [],
   "source": []
  },
  {
   "cell_type": "code",
   "execution_count": null,
   "id": "8124aee5-791c-42e9-96e9-c5564a613cc6",
   "metadata": {},
   "outputs": [],
   "source": [
    "#19.Write a NumPy program to create a 3x3 matrix with values ranging from 2     to 10."
   ]
  },
  {
   "cell_type": "code",
   "execution_count": null,
   "id": "7b3d2d0f-c94f-420b-9fe4-91bd9e54dd6b",
   "metadata": {},
   "outputs": [],
   "source": [
    "import numpy as np"
   ]
  },
  {
   "cell_type": "code",
   "execution_count": 42,
   "id": "8bb8d742-efca-4afa-8b31-043b6ba9d354",
   "metadata": {},
   "outputs": [
    {
     "name": "stdout",
     "output_type": "stream",
     "text": [
      "[[ 2  3  4]\n",
      " [ 5  6  7]\n",
      " [ 8  9 10]]\n"
     ]
    }
   ],
   "source": [
    "x = np.arange(2,11).reshape(3,3)\n",
    "print(x)"
   ]
  },
  {
   "cell_type": "code",
   "execution_count": null,
   "id": "db8a6003-2291-4dae-b2d5-f71bd3c43862",
   "metadata": {},
   "outputs": [],
   "source": []
  },
  {
   "cell_type": "code",
   "execution_count": null,
   "id": "fbdca24f-88c6-4b06-acbc-9a7a688857dd",
   "metadata": {},
   "outputs": [],
   "source": [
    "#20.Write a NumPy program to create an array with values ranging from 12 to 38."
   ]
  },
  {
   "cell_type": "code",
   "execution_count": null,
   "id": "a05839f1-85fe-4052-bb50-b1b1593c238a",
   "metadata": {},
   "outputs": [],
   "source": [
    "import numpy as np"
   ]
  },
  {
   "cell_type": "code",
   "execution_count": 43,
   "id": "b66e3760-74c1-494d-bef2-a6371feb67c6",
   "metadata": {},
   "outputs": [
    {
     "name": "stdout",
     "output_type": "stream",
     "text": [
      "[12 13 14 15 16 17 18 19 20 21 22 23 24 25 26 27 28 29 30 31 32 33 34 35\n",
      " 36 37]\n"
     ]
    }
   ],
   "source": [
    "x = np.arange(12, 38)\n",
    "print(x)"
   ]
  },
  {
   "cell_type": "code",
   "execution_count": null,
   "id": "72a6aff1-56d7-40d3-ac26-c5b32547a4a3",
   "metadata": {},
   "outputs": [],
   "source": []
  },
  {
   "cell_type": "code",
   "execution_count": null,
   "id": "7c82852b-692f-4d2d-a851-19c3ea3c41cf",
   "metadata": {},
   "outputs": [],
   "source": [
    "#21.Write a NumPy program to reverse an array (the first element becomes the last)."
   ]
  },
  {
   "cell_type": "code",
   "execution_count": null,
   "id": "749016cb-62e1-4332-b985-5f989267331b",
   "metadata": {},
   "outputs": [],
   "source": [
    "import numpy as np"
   ]
  },
  {
   "cell_type": "code",
   "execution_count": 44,
   "id": "652bebb5-9a29-46a6-a7dc-8c8a020181a9",
   "metadata": {},
   "outputs": [
    {
     "name": "stdout",
     "output_type": "stream",
     "text": [
      "Original Array:  [10 20 30 40 50]\n",
      "Reversed Array: [50 40 30 20 10]\n"
     ]
    }
   ],
   "source": [
    "arr = np.array([10, 20, 30, 40, 50])\n",
    "print(\"Original Array: \", arr)\n",
    "\n",
    "arr_reversed = np.flip(arr)\n",
    "print(\"Reversed Array:\", arr_reversed)"
   ]
  },
  {
   "cell_type": "code",
   "execution_count": null,
   "id": "f0a97c05-7921-4402-b293-7b9f4ff1dbc1",
   "metadata": {},
   "outputs": [],
   "source": []
  },
  {
   "cell_type": "code",
   "execution_count": null,
   "id": "7bbe9ba1-b329-4982-99d4-9cca48c1db8d",
   "metadata": {},
   "outputs": [],
   "source": [
    "#22.Write a NumPy program to convert an data type into to a floating type."
   ]
  },
  {
   "cell_type": "code",
   "execution_count": null,
   "id": "5d4165da-3d75-420c-9dad-5d53ef263b3f",
   "metadata": {},
   "outputs": [],
   "source": [
    "import numpy as np"
   ]
  },
  {
   "cell_type": "code",
   "execution_count": 45,
   "id": "fcf235a2-f714-4d12-a604-dd102cdb5647",
   "metadata": {},
   "outputs": [
    {
     "name": "stdout",
     "output_type": "stream",
     "text": [
      "Array converted to afloat type:\n",
      "[1. 2. 3. 4.]\n"
     ]
    }
   ],
   "source": [
    "a = [1, 2, 3, 4]\n",
    "\n",
    "x = np.asfarray(a)\n",
    "print(\"Array converted to afloat type:\")\n",
    "print(x)"
   ]
  },
  {
   "cell_type": "code",
   "execution_count": null,
   "id": "457b9050-780f-4e5a-88f7-5c66888a0f92",
   "metadata": {},
   "outputs": [],
   "source": []
  },
  {
   "cell_type": "code",
   "execution_count": null,
   "id": "01285733-cac8-4c96-813f-383a05f50b53",
   "metadata": {},
   "outputs": [],
   "source": [
    "#23.Write a NumPy program to convert a list array."
   ]
  },
  {
   "cell_type": "code",
   "execution_count": null,
   "id": "b8b2a655-a1d8-404c-a736-184a72a46573",
   "metadata": {},
   "outputs": [],
   "source": [
    "import numpy as np"
   ]
  },
  {
   "cell_type": "code",
   "execution_count": 46,
   "id": "e65f8f77-564d-4384-bc84-30bd2804211c",
   "metadata": {},
   "outputs": [
    {
     "name": "stdout",
     "output_type": "stream",
     "text": [
      "[1, 2, 3, 4, 5]\n"
     ]
    }
   ],
   "source": [
    "arr = np.array([1, 2, 3, 4, 5])\n",
    "arr = list(arr)\n",
    "print(arr)"
   ]
  },
  {
   "cell_type": "code",
   "execution_count": null,
   "id": "c0799f0b-ca70-422f-954f-978986ee8972",
   "metadata": {},
   "outputs": [],
   "source": []
  },
  {
   "cell_type": "code",
   "execution_count": null,
   "id": "e0ab1255-acae-42a7-987a-848e50a522f4",
   "metadata": {},
   "outputs": [],
   "source": [
    "#24.Write a NumPy program to get the element-wise remainder of an array of division."
   ]
  },
  {
   "cell_type": "code",
   "execution_count": null,
   "id": "f524dd53-0da2-4032-a806-7b22c5204e38",
   "metadata": {},
   "outputs": [],
   "source": [
    "import numpy as np"
   ]
  },
  {
   "cell_type": "code",
   "execution_count": 47,
   "id": "d118cbdb-c97b-452d-a71d-36e027815572",
   "metadata": {},
   "outputs": [
    {
     "name": "stdout",
     "output_type": "stream",
     "text": [
      "Original Array:\n",
      "[0 1 2 3 4 5 6 7 8]\n",
      "Element-wise remaider of division:\n",
      "[0 1 2 3 0 1 2 3 0]\n"
     ]
    }
   ],
   "source": [
    "x = np.arange(9)\n",
    "\n",
    "print(\"Original Array:\")\n",
    "print(x)\n",
    "\n",
    "print(\"Element-wise remaider of division:\")\n",
    "print(np.remainder(x, 4))"
   ]
  },
  {
   "cell_type": "code",
   "execution_count": null,
   "id": "1dfd2142-b08a-443f-8f7a-c8f9bb50e0a7",
   "metadata": {},
   "outputs": [],
   "source": []
  },
  {
   "cell_type": "code",
   "execution_count": null,
   "id": "ae764e89-10d8-4712-949d-b0c95f2d1558",
   "metadata": {},
   "outputs": [],
   "source": []
  },
  {
   "cell_type": "code",
   "execution_count": null,
   "id": "1081bd20-8f58-450a-a21d-48c0ae1561e6",
   "metadata": {},
   "outputs": [],
   "source": []
  },
  {
   "cell_type": "code",
   "execution_count": null,
   "id": "3d8eb751-5874-4b44-9efb-aea3d223fdca",
   "metadata": {},
   "outputs": [],
   "source": []
  },
  {
   "cell_type": "code",
   "execution_count": null,
   "id": "931b06ec-4573-43c5-aeb3-ea96ec89b428",
   "metadata": {},
   "outputs": [],
   "source": [
    "#10.Write a NumPy program to generate an array of 10 random numbers from 30    to 50."
   ]
  },
  {
   "cell_type": "code",
   "execution_count": 48,
   "id": "87d68f8b-feb0-45d4-a230-438be29c6efb",
   "metadata": {},
   "outputs": [
    {
     "name": "stdout",
     "output_type": "stream",
     "text": [
      "[64 53 72 83 85 65 76 82 84 61 83 82 72 72 85 83 51 76 77 66]\n"
     ]
    }
   ],
   "source": [
    "arr12=np.random.randint(50,90,20)\n",
    "print(arr12)"
   ]
  },
  {
   "cell_type": "code",
   "execution_count": null,
   "id": "bc4c401b-8e60-434f-a003-f469db99222c",
   "metadata": {},
   "outputs": [],
   "source": []
  },
  {
   "cell_type": "code",
   "execution_count": null,
   "id": "495c304c-0f8a-4346-8032-369308670af9",
   "metadata": {},
   "outputs": [],
   "source": [
    "#9.Write a NumPy program to generate an array of 10 random numbers from 30    to 50."
   ]
  },
  {
   "cell_type": "code",
   "execution_count": 49,
   "id": "5453f0dd-a1fa-40aa-8530-b2369a4b8070",
   "metadata": {},
   "outputs": [
    {
     "name": "stdout",
     "output_type": "stream",
     "text": [
      "[38 44 48 32 39 48 39 45 33 36]\n"
     ]
    }
   ],
   "source": [
    "arr13=np.random.randint(30,50,10)\n",
    "print(arr13)"
   ]
  },
  {
   "cell_type": "code",
   "execution_count": null,
   "id": "6c9451d2-fc2a-481f-9b3b-4734d23f9233",
   "metadata": {},
   "outputs": [],
   "source": []
  }
 ],
 "metadata": {
  "kernelspec": {
   "display_name": "Python 3 (ipykernel)",
   "language": "python",
   "name": "python3"
  },
  "language_info": {
   "codemirror_mode": {
    "name": "ipython",
    "version": 3
   },
   "file_extension": ".py",
   "mimetype": "text/x-python",
   "name": "python",
   "nbconvert_exporter": "python",
   "pygments_lexer": "ipython3",
   "version": "3.10.12"
  }
 },
 "nbformat": 4,
 "nbformat_minor": 5
}
